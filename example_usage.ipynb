{
 "cells": [
  {
   "cell_type": "code",
   "execution_count": 1,
   "id": "82a61270-a408-4009-83cc-8d63104844e6",
   "metadata": {},
   "outputs": [],
   "source": [
    "import music_id as mi\n",
    "import pickle"
   ]
  },
  {
   "cell_type": "code",
   "execution_count": 2,
   "id": "6c878ee7-1810-417c-8703-10cb8460c04e",
   "metadata": {},
   "outputs": [],
   "source": [
    "DB_FOLDER = \"../database_recordings\"\n",
    "Q_FOLDER = \"../query_recordings\"\n",
    "OUTPUT_PATH = \"output.txt\""
   ]
  },
  {
   "cell_type": "code",
   "execution_count": null,
   "id": "1b0b96cd-1c40-4bf0-a6ad-010f14b49dd7",
   "metadata": {},
   "outputs": [],
   "source": [
    "fingerprints = mi.fingerprintBuilder(DB_FOLDER, \"test.pkl\")\n",
    "mi.audioIdentification(Q_FOLDER, \"test.pkl\", OUTPUT_PATH)\n",
    "avg_p = mi.calcAvgPrecision(OUTPUT_PATH)\n",
    "print(\"Average precision: {}\".format(avg_p))"
   ]
  },
  {
   "cell_type": "code",
   "execution_count": null,
   "id": "896ae0d6-6f75-4997-ac99-da39b1fba603",
   "metadata": {},
   "outputs": [],
   "source": []
  }
 ],
 "metadata": {
  "kernelspec": {
   "display_name": "Python 3",
   "language": "python",
   "name": "python3"
  },
  "language_info": {
   "codemirror_mode": {
    "name": "ipython",
    "version": 3
   },
   "file_extension": ".py",
   "mimetype": "text/x-python",
   "name": "python",
   "nbconvert_exporter": "python",
   "pygments_lexer": "ipython3",
   "version": "3.9.12"
  }
 },
 "nbformat": 4,
 "nbformat_minor": 5
}
